{
  "nbformat": 4,
  "nbformat_minor": 0,
  "metadata": {
    "kernelspec": {
      "display_name": "Python 3",
      "language": "python",
      "name": "python3"
    },
    "language_info": {
      "codemirror_mode": {
        "name": "ipython",
        "version": 3
      },
      "file_extension": ".py",
      "mimetype": "text/x-python",
      "name": "python",
      "nbconvert_exporter": "python",
      "pygments_lexer": "ipython3",
      "version": "3.6.8"
    },
    "colab": {
      "name": "Word2Vec Assignment .ipynb",
      "provenance": []
    }
  },
  "cells": [
    {
      "cell_type": "code",
      "metadata": {
        "id": "NEz4QBjch1ZO",
        "colab_type": "code",
        "colab": {}
      },
      "source": [
        "#importing libraries\n",
        "import gensim\n",
        "from gensim.models import word2vec\n",
        "from gensim.models import KeyedVectors\n",
        "from sklearn.metrics.pairwise import cosine_similarity\n",
        "import numpy as np\n",
        "import pandas as pd"
      ],
      "execution_count": 0,
      "outputs": []
    },
    {
      "cell_type": "code",
      "metadata": {
        "scrolled": false,
        "id": "d_V0aarsh1ZV",
        "colab_type": "code",
        "colab": {}
      },
      "source": [
        "#loading data\n",
        "word_vectors = KeyedVectors.load_word2vec_format('GoogleNews-vectors-negative300.bin',binary=True)"
      ],
      "execution_count": 0,
      "outputs": []
    },
    {
      "cell_type": "code",
      "metadata": {
        "id": "Ir_6Ghjch1ZY",
        "colab_type": "code",
        "colab": {}
      },
      "source": [
        "#creating funtion of odd one out\n",
        "def findOdd(wordList):\n",
        "   \n",
        "    all_word_vectors = [word_vectors[w] for w in wordList]\n",
        "    avg_vector = np.mean(all_word_vectors,axis=0)\n",
        "\n",
        "    findOdd = None\n",
        "    min_similarity = 1.0 \n",
        "    \n",
        "    for w in words:\n",
        "        sim = cosine_similarity([word_vectors[w]],[avg_vector])\n",
        "        if sim < min_similarity:\n",
        "            min_similarity = sim\n",
        "            findOdd = w\n",
        "            \n",
        "    return findOdd"
      ],
      "execution_count": 0,
      "outputs": []
    },
    {
      "cell_type": "code",
      "metadata": {
        "id": "0r9r6PPFh1Zc",
        "colab_type": "code",
        "colab": {}
      },
      "source": [
        "#predicting\n",
        "df = pd.read_csv('Test.csv')\n",
        "x = df.values\n",
        "output = []"
      ],
      "execution_count": 0,
      "outputs": []
    },
    {
      "cell_type": "code",
      "metadata": {
        "id": "VNlHTTvNh1Zf",
        "colab_type": "code",
        "colab": {},
        "outputId": "107f35c4-1c67-44c7-feae-de14c2f395bb"
      },
      "source": [
        ""
      ],
      "execution_count": 0,
      "outputs": [
        {
          "output_type": "execute_result",
          "data": {
            "text/plain": [
              "'party'"
            ]
          },
          "metadata": {
            "tags": []
          },
          "execution_count": 27
        }
      ]
    },
    {
      "cell_type": "code",
      "metadata": {
        "id": "ty61RZzXh1Zj",
        "colab_type": "code",
        "colab": {}
      },
      "source": [
        ""
      ],
      "execution_count": 0,
      "outputs": []
    },
    {
      "cell_type": "code",
      "metadata": {
        "id": "wBGQnGpuh1Zn",
        "colab_type": "code",
        "colab": {}
      },
      "source": [
        "for i in x:\n",
        "    output.append(odd_one_out(i))"
      ],
      "execution_count": 0,
      "outputs": []
    },
    {
      "cell_type": "code",
      "metadata": {
        "id": "lLDndYuyh1Zq",
        "colab_type": "code",
        "colab": {},
        "outputId": "e85fd855-bbaa-40ca-8340-0a60ca24272c"
      },
      "source": [
        "print(output)"
      ],
      "execution_count": 0,
      "outputs": [
        {
          "output_type": "stream",
          "text": [
            "['snake', 'teacher', 'cat', 'pineapple', 'India', 'is', 'was', 'Australia', 'Money', 'think', 'ship', 'Rome', 'Pool', 'Egypt', 'mouse', 'helmet', 'Universe', 'Kill', 'Club', 'Sun']\n"
          ],
          "name": "stdout"
        }
      ]
    },
    {
      "cell_type": "code",
      "metadata": {
        "id": "Ws_n-9_ph1Zt",
        "colab_type": "code",
        "colab": {}
      },
      "source": [
        "import csv\n",
        "with open('person.csv', 'w') as csvFile:\n",
        "    writer = csv.writer(csvFile)\n",
        "    writer.writerows(output)\n",
        "csvFile.close()"
      ],
      "execution_count": 0,
      "outputs": []
    },
    {
      "cell_type": "code",
      "metadata": {
        "id": "FN-Bsgshh1Zx",
        "colab_type": "code",
        "colab": {}
      },
      "source": [
        ""
      ],
      "execution_count": 0,
      "outputs": []
    }
  ]
}